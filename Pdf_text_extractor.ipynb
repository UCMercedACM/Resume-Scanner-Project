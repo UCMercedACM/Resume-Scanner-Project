{
 "cells": [
  {
   "cell_type": "code",
   "execution_count": 15,
   "metadata": {},
   "outputs": [
    {
     "data": {
      "text/plain": [
       "'3.0.1'"
      ]
     },
     "execution_count": 15,
     "metadata": {},
     "output_type": "execute_result"
    }
   ],
   "source": [
    "'''PDF Text Extractor \n",
    "I made this, Idk if this helps or not. Feel free to change this\n",
    "I also don't know what branch to put this in so I put this in the main'''\n",
    "\n",
    "# importing packages and \n",
    "import PyPDF2 as pdf\n",
    "from PyPDF2 import PdfReader\n",
    "import pandas as pd\n",
    "\n",
    "pdf.__version__"
   ]
  },
  {
   "cell_type": "markdown",
   "metadata": {},
   "source": [
    "Need to figure out how to make this work with the csv file"
   ]
  },
  {
   "cell_type": "code",
   "execution_count": 25,
   "metadata": {},
   "outputs": [
    {
     "name": "stdout",
     "output_type": "stream",
     "text": [
      "Functional Resume Sample \n",
      " \n",
      "John W. Smith   \n",
      "2002 Front Range Way Fort Collins, CO 80525  \n",
      "jwsmith@colostate.edu  \n",
      " \n",
      "Career Summary \n",
      " \n",
      "Four years experience in early childhood development with a di verse background in the care of \n",
      "special needs children and adults.  \n",
      "  \n",
      "Adult Care Experience  \n",
      " \n",
      "• Determined work placement for 150 special needs adult clients.  \n",
      "• Maintained client databases and records.  \n",
      "• Coordinated client contact with local health care professionals on a monthly basis.     \n",
      "• Managed 25 volunteer workers.     \n",
      " \n",
      "Childcare Experience  \n",
      " \n",
      "• Coordinated service assignments for 20 part -time counselors and 100 client families. \n",
      "• Oversaw daily activity and outing planning for 100 clients.  \n",
      "• Assisted families of special needs clients with researching financial assistance and \n",
      "healthcare. \n",
      "• Assisted teachers with managing daily classroom activities.    \n",
      "• Oversaw daily and special st udent activities.     \n",
      " \n",
      "Employment History  \n",
      " 1999-2002  Counseling Supervisor, The Wesley Ce nter, Little Rock, Arkansas.    \n",
      "1997-1999  Client Specialist, Rainbow Special Ca re Center, Little Rock, Arkansas  \n",
      "1996-1997 Teacher’s Assistant, Cowell Elem entary, Conway, Arkansas     \n",
      " \n",
      "Education \n",
      " \n",
      "University of Arkansas at Little Rock, Little Rock, AR  \n",
      " \n",
      "• BS in Early Childhood Development (1999) \n",
      "• BA in Elementary Education (1998) \n",
      "• GPA (4.0 Scale):  Early Childhood Developm ent – 3.8, Elementary Education – 3.5, \n",
      "Overall 3.4.  \n",
      "• Dean’s List, Chancellor’s List \n",
      " \n"
     ]
    }
   ],
   "source": [
    "#using pdfreader to extract text\n",
    "def extract_text_from_pdf(pdf_path):\n",
    "    reader = PdfReader(pdf_path)\n",
    "    extracted_text = ''.join(page.extract_text() for page in reader.pages) #extract text and join them into a string\n",
    "    return extracted_text\n",
    "\n",
    "#Testing it out using a sample pdf\n",
    "pdf_path = '\\\\Users\\\\Anaki\\\\OneDrive\\\\Desktop\\\\codingprojects\\\\Resume-Scanner-Project\\\\functionalsample.pdf'\n",
    "\n",
    "text = extract_text_from_pdf(pdf_path)\n",
    "print(text)"
   ]
  }
 ],
 "metadata": {
  "kernelspec": {
   "display_name": "studysession",
   "language": "python",
   "name": "python3"
  },
  "language_info": {
   "codemirror_mode": {
    "name": "ipython",
    "version": 3
   },
   "file_extension": ".py",
   "mimetype": "text/x-python",
   "name": "python",
   "nbconvert_exporter": "python",
   "pygments_lexer": "ipython3",
   "version": "3.11.6"
  }
 },
 "nbformat": 4,
 "nbformat_minor": 2
}
